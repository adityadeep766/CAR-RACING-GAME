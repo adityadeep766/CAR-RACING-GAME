{
  "nbformat": 4,
  "nbformat_minor": 0,
  "metadata": {
    "colab": {
      "provenance": [],
      "authorship_tag": "ABX9TyMk02D53p4h/cpK8h5Q9c2y",
      "include_colab_link": true
    },
    "kernelspec": {
      "name": "python3",
      "display_name": "Python 3"
    },
    "language_info": {
      "name": "python"
    }
  },
  "cells": [
    {
      "cell_type": "markdown",
      "metadata": {
        "id": "view-in-github",
        "colab_type": "text"
      },
      "source": [
        "<a href=\"https://colab.research.google.com/github/adityadeep766/CAR-RACING-GAME/blob/main/Resume_analyser.ipynb\" target=\"_parent\"><img src=\"https://colab.research.google.com/assets/colab-badge.svg\" alt=\"Open In Colab\"/></a>"
      ]
    },
    {
      "cell_type": "code",
      "execution_count": null,
      "metadata": {
        "colab": {
          "base_uri": "https://localhost:8080/"
        },
        "id": "cHmKIBer0TND",
        "outputId": "1658c931-1597-460d-a813-a52fb4a031be"
      },
      "outputs": [
        {
          "output_type": "stream",
          "name": "stdout",
          "text": [
            "Looking in indexes: https://pypi.org/simple, https://us-python.pkg.dev/colab-wheels/public/simple/\n",
            "Collecting docx2txt\n",
            "  Downloading docx2txt-0.8.tar.gz (2.8 kB)\n",
            "Building wheels for collected packages: docx2txt\n",
            "  Building wheel for docx2txt (setup.py) ... \u001b[?25l\u001b[?25hdone\n",
            "  Created wheel for docx2txt: filename=docx2txt-0.8-py3-none-any.whl size=3981 sha256=b17a2c77f1cc40cfff2230306a8857e61762f8e6c5e94e62020de21a059052f3\n",
            "  Stored in directory: /root/.cache/pip/wheels/b7/20/b2/473e3aea9a0c0d3e7b2f7bd81d06d0794fec12752733d1f3a8\n",
            "Successfully built docx2txt\n",
            "Installing collected packages: docx2txt\n",
            "Successfully installed docx2txt-0.8\n"
          ]
        }
      ],
      "source": [
        "!pip install docx2txt\n",
        "import docx2txt"
      ]
    },
    {
      "cell_type": "code",
      "source": [
        "job_description = docx2txt.process('/content/Job brief.docx')\n",
        "resume = docx2txt.process('/content/aditya_resume_file.docx')"
      ],
      "metadata": {
        "id": "GHrcFdkK0ho0"
      },
      "execution_count": null,
      "outputs": []
    },
    {
      "cell_type": "code",
      "source": [
        "print(resume)\n"
      ],
      "metadata": {
        "colab": {
          "base_uri": "https://localhost:8080/"
        },
        "id": "0l1FDS4M0r79",
        "outputId": "0ab3a679-7eb0-48b0-ee14-efedfd109cd5"
      },
      "execution_count": null,
      "outputs": [
        {
          "output_type": "stream",
          "name": "stdout",
          "text": [
            "Aditya Narayan\n",
            "\n",
            "BTECH-COMPUTER SCIENCE ENGINEERING-VIT VELLORE\n",
            "\n",
            "\n",
            "\n",
            "\n",
            "\n",
            "\tLinkedIn :    Aditya Skype\t: Aditya\n",
            "\n",
            "\tContact\t: +91-6205806007\n",
            "\n",
            "\n",
            "\n",
            "\n",
            "@aditya.narayan2019@vitstudent.ac.in\n",
            "\n",
            "\n",
            "\n",
            "\n",
            "\n",
            "\n",
            "\n",
            "\n",
            "\n",
            "\n",
            "\n",
            "\n",
            "\n",
            "\n",
            "\n",
            "EXPERIENCE\n",
            "\n",
            "Fresher\n",
            "\n",
            "\n",
            "\n",
            "\n",
            "\n",
            "EDUCATION\n",
            "\n",
            "\n",
            "\n",
            "\n",
            "\n",
            "Vellore Institute of Technology(Vellore), BTech-\n",
            "\n",
            "Computer Science Engineering\n",
            "\n",
            "\tJuly 2019 - May 2023\tCGPA-7.45(6th sem)\n",
            "\n",
            "\n",
            "\n",
            "Chinmaya Vidyalaya, Bokaro Steel City Intermediate(CBSE) , June 2016-May 2018 Percentage-81.8\n",
            "\n",
            "\n",
            "\n",
            "De Nobili School,CFRI,Dhanbad Matriculation,March 2015-May 2016 Percentage-92.6\n",
            "\n",
            "\n",
            "\n",
            "PROJECTS\n",
            "\n",
            "\n",
            "\n",
            "Country Side Car Racer Game\n",
            "\n",
            "It is a car racing game developed using unity game\n",
            "\n",
            "\n",
            "\n",
            "Development tool and c# scripting language.The game consists of\n",
            "\n",
            "2 modes,day mode and night mode which allows the player to switch\n",
            "\n",
            "Between these two modes at frequent rates.\n",
            "\n",
            "\n",
            "\n",
            "\n",
            "\n",
            "Hazard Classification System. Concepts of a.i have been used to classify traffic Regions on basis of pronity,\n",
            "\n",
            "\n",
            "SKILLS\n",
            "\n",
            "Strong: Java,Sql,C++,HTML,Javascript,CSS,Data Structures and Algorithms,\n",
            "\n",
            "Familiar:Object Oriented Programming,Spring Maven,Unit Testing,Unity Game Development Tool\n",
            "\n",
            "\n",
            "\n",
            "\n",
            "\n",
            "COMPETITIVE  PROGRAMMING\n",
            "\n",
            "\n",
            "\n",
            "1:HackerRank : Aditya\n",
            "\n",
            ",Gold Badge,Problems Solved:200+\n",
            "\n",
            "\n",
            "\n",
            "2:LeetCode: Aditya, Problems Solved:25+\n",
            "\n",
            "\n",
            "\n",
            "3:GeeksForGeeks: Aditya Problems Solved:18+\n",
            "\n",
            "\n",
            "\n",
            "\n",
            "\n",
            "\n",
            "\n",
            "AWARDS AND CERTIFICATION\n",
            "\n",
            "\n",
            "\n",
            "\n",
            "\n",
            "1:Future Skills Prime: Aditya, Silver Badge in Big Data Analytics\n",
            "\n",
            "\n",
            "\n",
            "2: Hackerrank: Aditya\n",
            "\n",
            "5 star rating and Gold Badge in Problem Solving.\n",
            "\n",
            "\n",
            "\n",
            "\n",
            "\n",
            "EXTRA CURRICULAR ACTIVITIES\n",
            "\n",
            "\n",
            "\n",
            "\t\tPart of Hindi Literary\tAssociation\n",
            "\n",
            "\n",
            "\n",
            "\tScript Writer at Vit Film Society\n"
          ]
        }
      ]
    },
    {
      "cell_type": "code",
      "source": [
        "print(job_description)\n"
      ],
      "metadata": {
        "colab": {
          "base_uri": "https://localhost:8080/"
        },
        "id": "3ZDCwJpa0wvL",
        "outputId": "059cb046-d81a-48dd-b34c-dd1468c1fbac"
      },
      "execution_count": null,
      "outputs": [
        {
          "output_type": "stream",
          "name": "stdout",
          "text": [
            "Job brief\n",
            "\n",
            "\n",
            "\n",
            "We are looking for a Senior Web Developer to build and maintain functional web pages and applications.\n",
            "\n",
            "\n",
            "\n",
            "\n",
            "\n",
            "\n",
            "\n",
            "Senior Web Developer responsibilities include leading a team of junior developers, refining website specifications and resolving technical issues. To be successful in this role, you should have extensive experience building web pages from scratch and in-depth knowledge of at least one of the following programming languages: Javascript, Ruby or PHP.\n",
            "\n",
            "\n",
            "\n",
            "\n",
            "\n",
            "\n",
            "\n",
            "Ultimately, you will ensure our web pages are up and running and cover both internal and customer needs.\n",
            "\n",
            "Run functionality testings and debug code\n",
            "\n",
            "\n",
            "\n",
            "Oversee junior web developers and evaluate their performance\n",
            "\n",
            "\n",
            "\n",
            "Liaise with designers to decide on UI/UX elements (like graphics and navigation buttons)\n",
            "\n",
            "\n",
            "\n",
            "Ensure our software documentation is up-to-date\n",
            "\n",
            "\n",
            "\n",
            "Collaborate with mobile developers to build mobile-responsive websites\n",
            "\n",
            "\n",
            "\n",
            "Requirements\n",
            "\n",
            "\n",
            "\n",
            "Knowledge  in the field of big data analytics.\n",
            "\n",
            "\n",
            "\n",
            "Expertise in at least one programming language, preferably Javascript, Ruby or PHP\n",
            "\n",
            "\n",
            "\n",
            "Solid knowledge of HTML/CSS\n",
            "\n",
            "\n",
            "\n",
            "Experience with mockup and UI prototyping tools\n",
            "\n",
            "\n",
            "\n",
            "Understanding of security practices\n",
            "\n",
            "\n",
            "\n",
            "Familiarity with network diagnostics tools\n",
            "\n",
            "\n",
            "\n",
            "Team management skills\n",
            "\n",
            "\n",
            "\n",
            "Btech in Computer Science or relevant field\n"
          ]
        }
      ]
    },
    {
      "cell_type": "code",
      "source": [
        "content = [job_description, resume]"
      ],
      "metadata": {
        "id": "gLZJKebT006c"
      },
      "execution_count": null,
      "outputs": []
    },
    {
      "cell_type": "code",
      "source": [
        "from sklearn.feature_extraction.text import CountVectorizer\n",
        "cv = CountVectorizer()\n",
        "count_matrix = cv.fit_transform(content)"
      ],
      "metadata": {
        "id": "fmjiAUmd1OOg"
      },
      "execution_count": null,
      "outputs": []
    },
    {
      "cell_type": "code",
      "source": [
        "from sklearn.metrics.pairwise import cosine_similarity\n",
        "mat = cosine_similarity(count_matrix)\n",
        "print(mat)"
      ],
      "metadata": {
        "colab": {
          "base_uri": "https://localhost:8080/"
        },
        "id": "C5PdOXru1SXt",
        "outputId": "a01da889-24f2-414d-a5fb-c69e9ea13b13"
      },
      "execution_count": null,
      "outputs": [
        {
          "output_type": "stream",
          "name": "stdout",
          "text": [
            "[[1.         0.32511774]\n",
            " [0.32511774 1.        ]]\n"
          ]
        }
      ]
    },
    {
      "cell_type": "code",
      "source": [
        "print('Resume Matches by: '+  str(mat[1][0]*100) + '%')"
      ],
      "metadata": {
        "colab": {
          "base_uri": "https://localhost:8080/"
        },
        "id": "kEaOVXgv1XGB",
        "outputId": "c9d5d1af-cb78-4489-e631-91960a8007e7"
      },
      "execution_count": null,
      "outputs": [
        {
          "output_type": "stream",
          "name": "stdout",
          "text": [
            "Resume Matches by: 32.51177355829263%\n"
          ]
        }
      ]
    }
  ]
}